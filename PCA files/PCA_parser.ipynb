{
 "cells": [
  {
   "cell_type": "markdown",
   "id": "494b5808-0abc-42b5-b6e3-03713e27150e",
   "metadata": {},
   "source": [
    "# Trying to write some code to pull parameters out form PCA files from the GE CT scanner\n",
    "## Jaimi Gray \n",
    "\n",
    "I have multiple PCA files in the working directory, I am going to attempt to write some code that will pull out certain parameters and list them in a data frame. "
   ]
  },
  {
   "cell_type": "code",
   "execution_count": 1,
   "id": "8c40be43-a8cf-4a0e-aedb-e65808e696f7",
   "metadata": {
    "tags": []
   },
   "outputs": [],
   "source": [
    "# get libraries that I need\n",
    "\n",
    "import pandas as pd # pandas from data frames\n",
    "import os # can deal with multiple files paths"
   ]
  },
  {
   "cell_type": "code",
   "execution_count": 3,
   "id": "3beafdeb-9714-4fce-b2bd-db561f373e65",
   "metadata": {
    "tags": []
   },
   "outputs": [
    {
     "ename": "FileNotFoundError",
     "evalue": "[Errno 2] No such file or directory: '~/blue_practicum-ai/jaimigray/python_for_ai/PCA files'",
     "output_type": "error",
     "traceback": [
      "\u001b[0;31m---------------------------------------------------------------------------\u001b[0m",
      "\u001b[0;31mFileNotFoundError\u001b[0m                         Traceback (most recent call last)",
      "\u001b[0;32m/scratch/local/2139555/ipykernel_65153/3712181705.py\u001b[0m in \u001b[0;36m<cell line: 5>\u001b[0;34m()\u001b[0m\n\u001b[1;32m      3\u001b[0m \u001b[0;34m\u001b[0m\u001b[0m\n\u001b[1;32m      4\u001b[0m \u001b[0;31m# List all files in the directory\u001b[0m\u001b[0;34m\u001b[0m\u001b[0;34m\u001b[0m\u001b[0m\n\u001b[0;32m----> 5\u001b[0;31m \u001b[0mfile_list\u001b[0m \u001b[0;34m=\u001b[0m \u001b[0mos\u001b[0m\u001b[0;34m.\u001b[0m\u001b[0mlistdir\u001b[0m\u001b[0;34m(\u001b[0m\u001b[0mdirectory\u001b[0m\u001b[0;34m)\u001b[0m\u001b[0;34m\u001b[0m\u001b[0;34m\u001b[0m\u001b[0m\n\u001b[0m",
      "\u001b[0;31mFileNotFoundError\u001b[0m: [Errno 2] No such file or directory: '~/blue_practicum-ai/jaimigray/python_for_ai/PCA files'"
     ]
    }
   ],
   "source": [
    "# Specify the directory where your PCA files are located\n",
    "directory = '~/blue_practicum-ai/jaimigray/python_for_ai/PCA files'\n",
    "\n",
    "# List all files in the directory\n",
    "file_list = os.listdir(directory)\n"
   ]
  },
  {
   "cell_type": "code",
   "execution_count": null,
   "id": "14f1e21b-76ec-4eb6-bf9a-ceffdcd8f3ff",
   "metadata": {},
   "outputs": [],
   "source": []
  }
 ],
 "metadata": {
  "kernelspec": {
   "display_name": "UFRC Python-3.10",
   "language": "python",
   "name": "python3-3.10-ufrc"
  },
  "language_info": {
   "codemirror_mode": {
    "name": "ipython",
    "version": 3
   },
   "file_extension": ".py",
   "mimetype": "text/x-python",
   "name": "python",
   "nbconvert_exporter": "python",
   "pygments_lexer": "ipython3",
   "version": "3.10.5"
  }
 },
 "nbformat": 4,
 "nbformat_minor": 5
}
