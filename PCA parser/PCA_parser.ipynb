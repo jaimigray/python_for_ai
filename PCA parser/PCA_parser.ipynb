{
 "cells": [
  {
   "cell_type": "markdown",
   "id": "494b5808-0abc-42b5-b6e3-03713e27150e",
   "metadata": {},
   "source": [
    "# Trying to write some code to pull parameters out form PCA files from the GE CT scanner\n",
    "## Jaimi Gray \n",
    "\n",
    "I have multiple PCA files in the working directory, I am going to attempt to write some code that will pull out certain parameters and list them in a data frame. "
   ]
  },
  {
   "cell_type": "code",
   "execution_count": 1,
   "id": "8c40be43-a8cf-4a0e-aedb-e65808e696f7",
   "metadata": {
    "tags": []
   },
   "outputs": [],
   "source": [
    "# get libraries that I need\n",
    "\n",
    "import pandas as pd # pandas from data frames\n",
    "import os # can deal with multiple files paths"
   ]
  },
  {
   "cell_type": "code",
   "execution_count": 25,
   "id": "3beafdeb-9714-4fce-b2bd-db561f373e65",
   "metadata": {
    "tags": []
   },
   "outputs": [
    {
     "name": "stdout",
     "output_type": "stream",
     "text": [
      "['UF-herp-79994-head.pca', 'MZUC-32032.pca', 'VIMS-40878-diceCT.pca', 'UF-herp-84427-diceCT.pca', 'UF-herp-142512-head.pca', 'CAS-AMP-93870.pca', 'ANSP-126326-diceCT.pca', 'UF-bird-52652-diceCT.pca', 'UF-herp-79994-body.pca', 'YPM-ICH-024741-diceCT.pca', '.ipynb_checkpoints', 'YPM-MAM-005706-diceCT.pca']\n"
     ]
    }
   ],
   "source": [
    "# Specify the directory where your PCA files are located\n",
    "directory = \"/blue/practicum-ai/jaimigray/python_for_ai/PCA parser/PCA/\"\n",
    "\n",
    "# List all files in the directory\n",
    "file_list = os.listdir(directory)\n",
    "print(file_list)"
   ]
  },
  {
   "cell_type": "code",
   "execution_count": 27,
   "id": "3c30d6cb-cfa6-4077-9836-0e9349eab48c",
   "metadata": {
    "tags": []
   },
   "outputs": [
    {
     "name": "stdout",
     "output_type": "stream",
     "text": [
      "Empty DataFrame\n",
      "Columns: [File, VoxelSizeX, TimingVal, Voltage, Current, Filter, Avg, Skip]\n",
      "Index: []\n"
     ]
    }
   ],
   "source": [
    "# Define the parameters you want to extract from the PCA files\n",
    "parameters_of_interest = ['VoxelSizeX', 'TimingVal', 'Voltage', 'Current', 'Filter','Avg', 'Skip']\n",
    "\n",
    "# Create an empty DataFrame to store the extracted parameters\n",
    "results_df = pd.DataFrame(columns=['File'] + parameters_of_interest)\n",
    "\n",
    "print(results_df)"
   ]
  },
  {
   "cell_type": "code",
   "execution_count": 40,
   "id": "b6ad8648-07bd-42d2-aad2-099b117f8b9c",
   "metadata": {
    "tags": []
   },
   "outputs": [
    {
     "name": "stdout",
     "output_type": "stream",
     "text": [
      "Values found in file UF-herp-79994-head.pca: 0.01955444\n",
      "Values found in file MZUC-32032.pca: 0.02183344\n",
      "Values found in file VIMS-40878-diceCT.pca: 0.02071334\n",
      "Values found in file UF-herp-84427-diceCT.pca: 0.04222976\n",
      "Values found in file UF-herp-142512-head.pca: 0.02116693\n",
      "Values found in file CAS-AMP-93870.pca: 0.10627983\n",
      "Values found in file ANSP-126326-diceCT.pca: 0.03537129\n",
      "Values found in file UF-bird-52652-diceCT.pca: 0.0191472\n",
      "Values found in file UF-herp-79994-body.pca: 0.04212027\n",
      "Values found in file YPM-ICH-024741-diceCT.pca: 0.02515803\n",
      "Values found in file YPM-MAM-005706-diceCT.pca: 0.03718126\n"
     ]
    }
   ],
   "source": [
    "import re\n",
    "\n",
    "# Define the text pattern you want to search for using regular expressions\n",
    "search_pattern = r'VoxelSizeX=(\\d+\\.\\d+)'\n",
    "\n",
    "# Iterate over each file in the directory\n",
    "for file_name in os.listdir(directory):\n",
    "    # Check if the file is a PCA file\n",
    "    if file_name.endswith('.pca'):\n",
    "        file_path = os.path.join(directory, file_name)\n",
    "        \n",
    "        # Open the file in read mode\n",
    "        with open(file_path, 'r') as file:\n",
    "            # Read the contents of the file\n",
    "            file_contents = file.read()\n",
    "            \n",
    "            # Search for the specified text pattern within the file contents\n",
    "            matches = re.findall(search_pattern, file_contents)\n",
    "            \n",
    "            # If matches are found, extract the floating-point values after the text pattern\n",
    "            if matches:\n",
    "                values = [float(match) for match in matches]\n",
    "                print(f\"Values found in file {file_name}: {', '.join(map(str, values))}\")"
   ]
  },
  {
   "cell_type": "code",
   "execution_count": 41,
   "id": "89ae2895-3733-4e4a-a229-958d95e0aa8f",
   "metadata": {
    "tags": []
   },
   "outputs": [
    {
     "name": "stdout",
     "output_type": "stream",
     "text": [
      "                         File    Value1\n",
      "0      UF-herp-79994-head.pca  0.019554\n",
      "1              MZUC-32032.pca  0.021833\n",
      "2       VIMS-40878-diceCT.pca  0.020713\n",
      "3    UF-herp-84427-diceCT.pca  0.042230\n",
      "4     UF-herp-142512-head.pca  0.021167\n",
      "5           CAS-AMP-93870.pca  0.106280\n",
      "6      ANSP-126326-diceCT.pca  0.035371\n",
      "7    UF-bird-52652-diceCT.pca  0.019147\n",
      "8      UF-herp-79994-body.pca  0.042120\n",
      "9   YPM-ICH-024741-diceCT.pca  0.025158\n",
      "10  YPM-MAM-005706-diceCT.pca  0.037181\n"
     ]
    }
   ],
   "source": [
    "# Create an empty DataFrame to store the extracted values\n",
    "data = []\n",
    "\n",
    "# Define the text pattern you want to search for using regular expressions\n",
    "search_pattern = r'VoxelSizeX=(\\d+\\.\\d+)'\n",
    "\n",
    "# Iterate over each file in the directory\n",
    "for file_name in os.listdir(directory):\n",
    "    # Check if the file is a PCA file\n",
    "    if file_name.endswith('.pca'):\n",
    "        file_path = os.path.join(directory, file_name)\n",
    "         # Open the file in read mode\n",
    "        with open(file_path, 'r') as file:\n",
    "            # Read the contents of the file\n",
    "            file_contents = file.read()\n",
    "            \n",
    "            # Search for the specified text pattern within the file contents\n",
    "            matches = re.findall(search_pattern, file_contents)\n",
    "            \n",
    "            # If matches are found, extract the floating-point values after the text pattern\n",
    "            if matches:\n",
    "                values = [float(match) for match in matches]\n",
    "                \n",
    "                # Create a dictionary with the file name and the extracted values\n",
    "                record = {'File': file_name}\n",
    "                for i, value in enumerate(values):\n",
    "                    record[f'Value{i+1}'] = value\n",
    "                \n",
    "                # Append the dictionary to the data list\n",
    "                data.append(record)\n",
    "                \n",
    "                # Create a DataFrame from the data list\n",
    "df = pd.DataFrame(data)\n",
    "\n",
    "# Print the resulting DataFrame\n",
    "print(df)"
   ]
  },
  {
   "cell_type": "code",
   "execution_count": 42,
   "id": "f31655ce-5d38-41b1-a5ae-61efa4cb8c6b",
   "metadata": {
    "tags": []
   },
   "outputs": [
    {
     "name": "stdout",
     "output_type": "stream",
     "text": [
      "                         File  Voxel size (mm)\n",
      "0      UF-herp-79994-head.pca         0.019554\n",
      "1              MZUC-32032.pca         0.021833\n",
      "2       VIMS-40878-diceCT.pca         0.020713\n",
      "3    UF-herp-84427-diceCT.pca         0.042230\n",
      "4     UF-herp-142512-head.pca         0.021167\n",
      "5           CAS-AMP-93870.pca         0.106280\n",
      "6      ANSP-126326-diceCT.pca         0.035371\n",
      "7    UF-bird-52652-diceCT.pca         0.019147\n",
      "8      UF-herp-79994-body.pca         0.042120\n",
      "9   YPM-ICH-024741-diceCT.pca         0.025158\n",
      "10  YPM-MAM-005706-diceCT.pca         0.037181\n"
     ]
    }
   ],
   "source": [
    "# Rename a single column\n",
    "df = df.rename(columns={'Value1': 'Voxel size (mm)'})\n",
    "\n",
    "# Print the resulting DataFrame\n",
    "print(df)"
   ]
  },
  {
   "cell_type": "code",
   "execution_count": 53,
   "id": "0e0618f4-51cc-4a39-b386-4393eaa1d1cd",
   "metadata": {
    "tags": []
   },
   "outputs": [
    {
     "name": "stdout",
     "output_type": "stream",
     "text": [
      "                         File  Voxel size (mm)  Exposure (ms)  Voltage (kV)  \\\n",
      "0      UF-herp-79994-head.pca         0.019554        200.098         100.0   \n",
      "1              MZUC-32032.pca         0.021833        200.098          80.0   \n",
      "2       VIMS-40878-diceCT.pca         0.020713        200.098         100.0   \n",
      "3    UF-herp-84427-diceCT.pca         0.042230        250.097         130.0   \n",
      "4     UF-herp-142512-head.pca         0.021167        200.098         100.0   \n",
      "5           CAS-AMP-93870.pca         0.106280        200.098         120.0   \n",
      "6      ANSP-126326-diceCT.pca         0.035371        200.098         130.0   \n",
      "7    UF-bird-52652-diceCT.pca         0.019147        200.098         100.0   \n",
      "8      UF-herp-79994-body.pca         0.042120        200.098         120.0   \n",
      "9   YPM-ICH-024741-diceCT.pca         0.025158        200.098         120.0   \n",
      "10  YPM-MAM-005706-diceCT.pca         0.037181        200.098         130.0   \n",
      "\n",
      "    Current (uA)  Frame averaging  \n",
      "0          200.0              3.0  \n",
      "1          200.0              3.0  \n",
      "2          200.0              3.0  \n",
      "3          200.0              3.0  \n",
      "4          200.0              3.0  \n",
      "5          200.0              3.0  \n",
      "6          200.0              3.0  \n",
      "7          200.0              3.0  \n",
      "8          200.0              3.0  \n",
      "9          200.0              3.0  \n",
      "10         200.0              3.0  \n"
     ]
    }
   ],
   "source": [
    "import os\n",
    "import re\n",
    "import pandas as pd\n",
    "\n",
    "# Define the search patterns and corresponding column names\n",
    "search_patterns = {\n",
    "    'Voxel size (mm)': r'VoxelSizeX=(\\d+\\.\\d+)',\n",
    "    'Exposure (ms)': r'TimingVal=(\\d+\\.\\d+)',\n",
    "    # searching for 2 or 3 digit numbers\n",
    "    'Voltage (kV)': r'\\nVoltage=\\b(\\d{2,3})\\b', # add the \\n to search for the term starting on a new line\n",
    "    'Current (uA)': r'\\nCurrent=\\b(\\d{2,3})\\b',\n",
    "    'Frame averaging': r'Avg=\\b(\\d{1})\\b'\n",
    "}\n",
    "\n",
    "\n",
    "# Create an empty dictionary to store the extracted values\n",
    "data = []\n",
    "\n",
    "# Iterate over each file in the directory\n",
    "for file_name in os.listdir(directory):\n",
    "    # Check if the file is a PCA file\n",
    "    if file_name.endswith('.pca'):\n",
    "        file_path = os.path.join(directory, file_name)\n",
    "\n",
    "        # Create a dictionary for each file\n",
    "        file_data = {'File': file_name}\n",
    "        \n",
    "        # Open the file in read mode\n",
    "        with open(file_path, 'r') as file:\n",
    "            # Read the contents of the file\n",
    "            file_contents = file.read()\n",
    "\n",
    "            # Extract values for each search pattern\n",
    "            for pattern_name, pattern in search_patterns.items():\n",
    "                matches = re.findall(pattern, file_contents)\n",
    "                if matches:\n",
    "                    values = [float(match) for match in matches]\n",
    "                    if len(values) == 1:\n",
    "                        file_data[pattern_name] = values[0]\n",
    "                    else:\n",
    "                        file_data[pattern_name] = values\n",
    "\n",
    "        # Append the record to the data list\n",
    "        data.append(file_data)\n",
    "\n",
    "# Create a DataFrame from the data list\n",
    "df = pd.DataFrame(data)\n",
    "\n",
    "# Print the resulting DataFrame\n",
    "print(df)\n"
   ]
  },
  {
   "cell_type": "code",
   "execution_count": 54,
   "id": "6082b391-f860-48f6-a156-ad79dfe5001c",
   "metadata": {
    "tags": []
   },
   "outputs": [],
   "source": [
    "# Assuming you have a DataFrame called 'df'\n",
    "\n",
    "# Specify the file path for the CSV file\n",
    "csv_file_path = '/blue/practicum-ai/jaimigray/python_for_ai/PCA parser/PCA/scanning_parameters.csv'\n",
    "\n",
    "# Export the DataFrame to a CSV file\n",
    "df.to_csv(csv_file_path, index=False)"
   ]
  },
  {
   "cell_type": "code",
   "execution_count": null,
   "id": "836cfd72-9131-42ab-a7ad-63d13b55c707",
   "metadata": {},
   "outputs": [],
   "source": []
  }
 ],
 "metadata": {
  "kernelspec": {
   "display_name": "UFRC Python-3.10",
   "language": "python",
   "name": "python3-3.10-ufrc"
  },
  "language_info": {
   "codemirror_mode": {
    "name": "ipython",
    "version": 3
   },
   "file_extension": ".py",
   "mimetype": "text/x-python",
   "name": "python",
   "nbconvert_exporter": "python",
   "pygments_lexer": "ipython3",
   "version": "3.10.5"
  }
 },
 "nbformat": 4,
 "nbformat_minor": 5
}
