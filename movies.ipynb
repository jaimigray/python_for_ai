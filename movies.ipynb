{
 "cells": [
  {
   "cell_type": "markdown",
   "id": "9d7cd56f-c755-4eee-8a82-235e4be080cf",
   "metadata": {
    "tags": []
   },
   "source": [
    "# Playing with Python\n",
    "## Jaimi Gray\n",
    "#### 7th June 2023\n",
    "\n",
    "first I want to read in a data set. I have a csv file loaded into my github repository called imdb_clean2.csv and I want to import it as a pandas data frame"
   ]
  },
  {
   "cell_type": "code",
   "execution_count": 9,
   "id": "e8f26618-1f87-4787-9e84-f63d84fcf4f8",
   "metadata": {
    "tags": []
   },
   "outputs": [
    {
     "data": {
      "text/html": [
       "<div>\n",
       "<style scoped>\n",
       "    .dataframe tbody tr th:only-of-type {\n",
       "        vertical-align: middle;\n",
       "    }\n",
       "\n",
       "    .dataframe tbody tr th {\n",
       "        vertical-align: top;\n",
       "    }\n",
       "\n",
       "    .dataframe thead th {\n",
       "        text-align: right;\n",
       "    }\n",
       "</style>\n",
       "<table border=\"1\" class=\"dataframe\">\n",
       "  <thead>\n",
       "    <tr style=\"text-align: right;\">\n",
       "      <th></th>\n",
       "      <th>Unnamed: 0</th>\n",
       "      <th>title</th>\n",
       "      <th>release_year</th>\n",
       "      <th>runtime</th>\n",
       "      <th>genre</th>\n",
       "      <th>rating</th>\n",
       "      <th>metascore</th>\n",
       "      <th>gross(M)</th>\n",
       "    </tr>\n",
       "  </thead>\n",
       "  <tbody>\n",
       "    <tr>\n",
       "      <th>0</th>\n",
       "      <td>0</td>\n",
       "      <td>The Shawshank Redemption</td>\n",
       "      <td>1994</td>\n",
       "      <td>142</td>\n",
       "      <td>Drama</td>\n",
       "      <td>9.3</td>\n",
       "      <td>82</td>\n",
       "      <td>28.34</td>\n",
       "    </tr>\n",
       "    <tr>\n",
       "      <th>1</th>\n",
       "      <td>1</td>\n",
       "      <td>The Godfather</td>\n",
       "      <td>1972</td>\n",
       "      <td>175</td>\n",
       "      <td>Crime</td>\n",
       "      <td>9.2</td>\n",
       "      <td>100</td>\n",
       "      <td>134.97</td>\n",
       "    </tr>\n",
       "    <tr>\n",
       "      <th>2</th>\n",
       "      <td>1</td>\n",
       "      <td>The Godfather</td>\n",
       "      <td>1972</td>\n",
       "      <td>175</td>\n",
       "      <td>Drama</td>\n",
       "      <td>9.2</td>\n",
       "      <td>100</td>\n",
       "      <td>134.97</td>\n",
       "    </tr>\n",
       "    <tr>\n",
       "      <th>3</th>\n",
       "      <td>2</td>\n",
       "      <td>The Dark Knight</td>\n",
       "      <td>2008</td>\n",
       "      <td>152</td>\n",
       "      <td>Action</td>\n",
       "      <td>9.0</td>\n",
       "      <td>84</td>\n",
       "      <td>534.86</td>\n",
       "    </tr>\n",
       "    <tr>\n",
       "      <th>4</th>\n",
       "      <td>2</td>\n",
       "      <td>The Dark Knight</td>\n",
       "      <td>2008</td>\n",
       "      <td>152</td>\n",
       "      <td>Crime</td>\n",
       "      <td>9.0</td>\n",
       "      <td>84</td>\n",
       "      <td>534.86</td>\n",
       "    </tr>\n",
       "  </tbody>\n",
       "</table>\n",
       "</div>"
      ],
      "text/plain": [
       "   Unnamed: 0                     title  release_year  runtime   genre  \\\n",
       "0           0  The Shawshank Redemption          1994      142   Drama   \n",
       "1           1             The Godfather          1972      175   Crime   \n",
       "2           1             The Godfather          1972      175   Drama   \n",
       "3           2           The Dark Knight          2008      152  Action   \n",
       "4           2           The Dark Knight          2008      152   Crime   \n",
       "\n",
       "   rating  metascore  gross(M)  \n",
       "0     9.3         82     28.34  \n",
       "1     9.2        100    134.97  \n",
       "2     9.2        100    134.97  \n",
       "3     9.0         84    534.86  \n",
       "4     9.0         84    534.86  "
      ]
     },
     "execution_count": 9,
     "metadata": {},
     "output_type": "execute_result"
    }
   ],
   "source": [
    "import pandas as pd\n",
    "\n",
    "# URL of the raw CSV file in your GitHub repository\n",
    "csv_url = '~/blue_practicum-ai/jaimigray/python_for_ai/data/imdb_clean2.csv'\n",
    "\n",
    "# Read the CSV file into a pandas DataFrame\n",
    "df = pd.read_csv(csv_url)\n",
    "\n",
    "# Display the DataFrame\n",
    "df.head()"
   ]
  },
  {
   "cell_type": "code",
   "execution_count": 12,
   "id": "3467529b-c3b5-4f93-88f5-5b3154b51d6e",
   "metadata": {
    "tags": []
   },
   "outputs": [
    {
     "data": {
      "text/plain": [
       "Index(['Unnamed: 0', 'title', 'release_year', 'runtime', 'genre', 'rating',\n",
       "       'metascore', 'gross(M)'],\n",
       "      dtype='object')"
      ]
     },
     "execution_count": 12,
     "metadata": {},
     "output_type": "execute_result"
    }
   ],
   "source": [
    "# to view the columns in my data frame\n",
    "\n",
    "df.columns"
   ]
  },
  {
   "cell_type": "code",
   "execution_count": 13,
   "id": "800ca088-bb57-48f2-b1d5-68d79e20916f",
   "metadata": {
    "tags": []
   },
   "outputs": [
    {
     "data": {
      "text/plain": [
       "0        28.34\n",
       "1       134.97\n",
       "2       134.97\n",
       "3       534.86\n",
       "4       534.86\n",
       "         ...  \n",
       "2527      0.00\n",
       "2528      0.00\n",
       "2529      0.00\n",
       "2530      0.00\n",
       "2531      0.00\n",
       "Name: gross(M), Length: 2532, dtype: float64"
      ]
     },
     "execution_count": 13,
     "metadata": {},
     "output_type": "execute_result"
    }
   ],
   "source": [
    "# view a column in the data frame\n",
    "\n",
    "# Call df['gross(M)']\n",
    "df['gross(M)']"
   ]
  },
  {
   "cell_type": "code",
   "execution_count": 18,
   "id": "c2d3a50b-3028-4c87-abdd-efd0c442b3da",
   "metadata": {
    "tags": []
   },
   "outputs": [],
   "source": [
    "# Drop duplicate rows based on a subset of columns\n",
    "\n",
    "drop_cols = ['title']  # Specify the columns to consider for identifying duplicates\n",
    "\n",
    "df = df.drop_duplicates(subset=drop_cols)\n",
    "\n",
    "# Reset the index of the DataFrame\n",
    "df = df.reset_index(drop=True)"
   ]
  },
  {
   "cell_type": "code",
   "execution_count": 19,
   "id": "a8bb81c5-5520-4ed0-8279-0c33ca4e6b29",
   "metadata": {
    "tags": []
   },
   "outputs": [
    {
     "data": {
      "text/plain": [
       "0      The Shawshank Redemption\n",
       "1                 The Godfather\n",
       "2               The Dark Knight\n",
       "3              Schindler's List\n",
       "4                  12 Angry Men\n",
       "                 ...           \n",
       "989                   Philomena\n",
       "990                     Control\n",
       "991      A Very Long Engagement\n",
       "992           The Invisible Man\n",
       "993                    Cell 211\n",
       "Name: title, Length: 994, dtype: object"
      ]
     },
     "execution_count": 19,
     "metadata": {},
     "output_type": "execute_result"
    }
   ],
   "source": [
    "df['title'] # check the data frame"
   ]
  },
  {
   "cell_type": "code",
   "execution_count": 21,
   "id": "ff5b2927-7786-40e8-a61e-8dc0a3903c08",
   "metadata": {
    "tags": []
   },
   "outputs": [
    {
     "data": {
      "text/html": [
       "<div>\n",
       "<style scoped>\n",
       "    .dataframe tbody tr th:only-of-type {\n",
       "        vertical-align: middle;\n",
       "    }\n",
       "\n",
       "    .dataframe tbody tr th {\n",
       "        vertical-align: top;\n",
       "    }\n",
       "\n",
       "    .dataframe thead th {\n",
       "        text-align: right;\n",
       "    }\n",
       "</style>\n",
       "<table border=\"1\" class=\"dataframe\">\n",
       "  <thead>\n",
       "    <tr style=\"text-align: right;\">\n",
       "      <th></th>\n",
       "      <th>Unnamed: 0</th>\n",
       "      <th>title</th>\n",
       "      <th>release_year</th>\n",
       "      <th>runtime</th>\n",
       "      <th>genre</th>\n",
       "      <th>rating</th>\n",
       "      <th>metascore</th>\n",
       "      <th>gross(M)</th>\n",
       "    </tr>\n",
       "  </thead>\n",
       "  <tbody>\n",
       "    <tr>\n",
       "      <th>632</th>\n",
       "      <td>636</td>\n",
       "      <td>Star Wars: Episode VII - The Force Awakens</td>\n",
       "      <td>2015</td>\n",
       "      <td>138</td>\n",
       "      <td>Action</td>\n",
       "      <td>7.8</td>\n",
       "      <td>80</td>\n",
       "      <td>936.66</td>\n",
       "    </tr>\n",
       "    <tr>\n",
       "      <th>61</th>\n",
       "      <td>61</td>\n",
       "      <td>Avengers: Endgame</td>\n",
       "      <td>2019</td>\n",
       "      <td>181</td>\n",
       "      <td>Action</td>\n",
       "      <td>8.4</td>\n",
       "      <td>78</td>\n",
       "      <td>858.37</td>\n",
       "    </tr>\n",
       "    <tr>\n",
       "      <th>141</th>\n",
       "      <td>141</td>\n",
       "      <td>Spider-Man: No Way Home</td>\n",
       "      <td>2021</td>\n",
       "      <td>148</td>\n",
       "      <td>Action</td>\n",
       "      <td>8.2</td>\n",
       "      <td>71</td>\n",
       "      <td>804.75</td>\n",
       "    </tr>\n",
       "    <tr>\n",
       "      <th>472</th>\n",
       "      <td>474</td>\n",
       "      <td>Avatar</td>\n",
       "      <td>2009</td>\n",
       "      <td>162</td>\n",
       "      <td>Action</td>\n",
       "      <td>7.9</td>\n",
       "      <td>83</td>\n",
       "      <td>760.51</td>\n",
       "    </tr>\n",
       "    <tr>\n",
       "      <th>90</th>\n",
       "      <td>90</td>\n",
       "      <td>Top Gun: Maverick</td>\n",
       "      <td>2022</td>\n",
       "      <td>130</td>\n",
       "      <td>Action</td>\n",
       "      <td>8.3</td>\n",
       "      <td>78</td>\n",
       "      <td>718.73</td>\n",
       "    </tr>\n",
       "    <tr>\n",
       "      <th>69</th>\n",
       "      <td>69</td>\n",
       "      <td>Avengers: Infinity War</td>\n",
       "      <td>2018</td>\n",
       "      <td>149</td>\n",
       "      <td>Action</td>\n",
       "      <td>8.4</td>\n",
       "      <td>68</td>\n",
       "      <td>678.82</td>\n",
       "    </tr>\n",
       "    <tr>\n",
       "      <th>919</th>\n",
       "      <td>925</td>\n",
       "      <td>Avatar: The Way of Water</td>\n",
       "      <td>2022</td>\n",
       "      <td>192</td>\n",
       "      <td>Action</td>\n",
       "      <td>7.6</td>\n",
       "      <td>67</td>\n",
       "      <td>659.68</td>\n",
       "    </tr>\n",
       "    <tr>\n",
       "      <th>471</th>\n",
       "      <td>473</td>\n",
       "      <td>Titanic</td>\n",
       "      <td>1997</td>\n",
       "      <td>194</td>\n",
       "      <td>Drama</td>\n",
       "      <td>7.9</td>\n",
       "      <td>75</td>\n",
       "      <td>659.33</td>\n",
       "    </tr>\n",
       "    <tr>\n",
       "      <th>348</th>\n",
       "      <td>350</td>\n",
       "      <td>The Avengers</td>\n",
       "      <td>2012</td>\n",
       "      <td>143</td>\n",
       "      <td>Action</td>\n",
       "      <td>8.0</td>\n",
       "      <td>69</td>\n",
       "      <td>623.28</td>\n",
       "    </tr>\n",
       "    <tr>\n",
       "      <th>2</th>\n",
       "      <td>2</td>\n",
       "      <td>The Dark Knight</td>\n",
       "      <td>2008</td>\n",
       "      <td>152</td>\n",
       "      <td>Action</td>\n",
       "      <td>9.0</td>\n",
       "      <td>84</td>\n",
       "      <td>534.86</td>\n",
       "    </tr>\n",
       "  </tbody>\n",
       "</table>\n",
       "</div>"
      ],
      "text/plain": [
       "     Unnamed: 0                                       title  release_year  \\\n",
       "632         636  Star Wars: Episode VII - The Force Awakens          2015   \n",
       "61           61                           Avengers: Endgame          2019   \n",
       "141         141                     Spider-Man: No Way Home          2021   \n",
       "472         474                                      Avatar          2009   \n",
       "90           90                           Top Gun: Maverick          2022   \n",
       "69           69                      Avengers: Infinity War          2018   \n",
       "919         925                    Avatar: The Way of Water          2022   \n",
       "471         473                                     Titanic          1997   \n",
       "348         350                                The Avengers          2012   \n",
       "2             2                             The Dark Knight          2008   \n",
       "\n",
       "     runtime   genre  rating  metascore  gross(M)  \n",
       "632      138  Action     7.8         80    936.66  \n",
       "61       181  Action     8.4         78    858.37  \n",
       "141      148  Action     8.2         71    804.75  \n",
       "472      162  Action     7.9         83    760.51  \n",
       "90       130  Action     8.3         78    718.73  \n",
       "69       149  Action     8.4         68    678.82  \n",
       "919      192  Action     7.6         67    659.68  \n",
       "471      194   Drama     7.9         75    659.33  \n",
       "348      143  Action     8.0         69    623.28  \n",
       "2        152  Action     9.0         84    534.86  "
      ]
     },
     "execution_count": 21,
     "metadata": {},
     "output_type": "execute_result"
    }
   ],
   "source": [
    "# Assuming you have a DataFrame called df and you want to get the top 10 values based on 'column_name'\n",
    "\n",
    "# Retrieve the top 10 values based on 'column_name'\n",
    "top_10_grossing = df.nlargest(10, 'gross(M)')\n",
    "\n",
    "# Display the top 10 values\n",
    "top_10_grossing"
   ]
  },
  {
   "cell_type": "code",
   "execution_count": 22,
   "id": "08bfe0e2-87d9-4ea9-baa5-a330c5e43ce2",
   "metadata": {
    "tags": []
   },
   "outputs": [
    {
     "data": {
      "text/html": [
       "<div>\n",
       "<style scoped>\n",
       "    .dataframe tbody tr th:only-of-type {\n",
       "        vertical-align: middle;\n",
       "    }\n",
       "\n",
       "    .dataframe tbody tr th {\n",
       "        vertical-align: top;\n",
       "    }\n",
       "\n",
       "    .dataframe thead th {\n",
       "        text-align: right;\n",
       "    }\n",
       "</style>\n",
       "<table border=\"1\" class=\"dataframe\">\n",
       "  <thead>\n",
       "    <tr style=\"text-align: right;\">\n",
       "      <th></th>\n",
       "      <th>Unnamed: 0</th>\n",
       "      <th>title</th>\n",
       "      <th>release_year</th>\n",
       "      <th>runtime</th>\n",
       "      <th>genre</th>\n",
       "      <th>rating</th>\n",
       "      <th>metascore</th>\n",
       "      <th>gross(M)</th>\n",
       "    </tr>\n",
       "  </thead>\n",
       "  <tbody>\n",
       "    <tr>\n",
       "      <th>0</th>\n",
       "      <td>0</td>\n",
       "      <td>The Shawshank Redemption</td>\n",
       "      <td>1994</td>\n",
       "      <td>142</td>\n",
       "      <td>Drama</td>\n",
       "      <td>9.3</td>\n",
       "      <td>82</td>\n",
       "      <td>28.34</td>\n",
       "    </tr>\n",
       "    <tr>\n",
       "      <th>1</th>\n",
       "      <td>1</td>\n",
       "      <td>The Godfather</td>\n",
       "      <td>1972</td>\n",
       "      <td>175</td>\n",
       "      <td>Crime</td>\n",
       "      <td>9.2</td>\n",
       "      <td>100</td>\n",
       "      <td>134.97</td>\n",
       "    </tr>\n",
       "    <tr>\n",
       "      <th>2</th>\n",
       "      <td>2</td>\n",
       "      <td>The Dark Knight</td>\n",
       "      <td>2008</td>\n",
       "      <td>152</td>\n",
       "      <td>Action</td>\n",
       "      <td>9.0</td>\n",
       "      <td>84</td>\n",
       "      <td>534.86</td>\n",
       "    </tr>\n",
       "    <tr>\n",
       "      <th>3</th>\n",
       "      <td>3</td>\n",
       "      <td>Schindler's List</td>\n",
       "      <td>1993</td>\n",
       "      <td>195</td>\n",
       "      <td>Biography</td>\n",
       "      <td>9.0</td>\n",
       "      <td>95</td>\n",
       "      <td>96.90</td>\n",
       "    </tr>\n",
       "    <tr>\n",
       "      <th>4</th>\n",
       "      <td>4</td>\n",
       "      <td>12 Angry Men</td>\n",
       "      <td>1957</td>\n",
       "      <td>96</td>\n",
       "      <td>Crime</td>\n",
       "      <td>9.0</td>\n",
       "      <td>97</td>\n",
       "      <td>4.36</td>\n",
       "    </tr>\n",
       "    <tr>\n",
       "      <th>5</th>\n",
       "      <td>5</td>\n",
       "      <td>The Godfather Part II</td>\n",
       "      <td>1974</td>\n",
       "      <td>202</td>\n",
       "      <td>Crime</td>\n",
       "      <td>9.0</td>\n",
       "      <td>90</td>\n",
       "      <td>57.30</td>\n",
       "    </tr>\n",
       "    <tr>\n",
       "      <th>6</th>\n",
       "      <td>6</td>\n",
       "      <td>The Lord of the Rings: The Return of the King</td>\n",
       "      <td>2003</td>\n",
       "      <td>201</td>\n",
       "      <td>Action</td>\n",
       "      <td>9.0</td>\n",
       "      <td>94</td>\n",
       "      <td>377.85</td>\n",
       "    </tr>\n",
       "    <tr>\n",
       "      <th>7</th>\n",
       "      <td>7</td>\n",
       "      <td>Spider-Man: Across the Spider-Verse</td>\n",
       "      <td>2023</td>\n",
       "      <td>140</td>\n",
       "      <td>Animation</td>\n",
       "      <td>8.9</td>\n",
       "      <td>86</td>\n",
       "      <td>0.00</td>\n",
       "    </tr>\n",
       "    <tr>\n",
       "      <th>8</th>\n",
       "      <td>8</td>\n",
       "      <td>Pulp Fiction</td>\n",
       "      <td>1994</td>\n",
       "      <td>154</td>\n",
       "      <td>Crime</td>\n",
       "      <td>8.9</td>\n",
       "      <td>95</td>\n",
       "      <td>107.93</td>\n",
       "    </tr>\n",
       "    <tr>\n",
       "      <th>9</th>\n",
       "      <td>9</td>\n",
       "      <td>Inception</td>\n",
       "      <td>2010</td>\n",
       "      <td>148</td>\n",
       "      <td>Action</td>\n",
       "      <td>8.8</td>\n",
       "      <td>74</td>\n",
       "      <td>292.58</td>\n",
       "    </tr>\n",
       "  </tbody>\n",
       "</table>\n",
       "</div>"
      ],
      "text/plain": [
       "   Unnamed: 0                                          title  release_year  \\\n",
       "0           0                       The Shawshank Redemption          1994   \n",
       "1           1                                  The Godfather          1972   \n",
       "2           2                                The Dark Knight          2008   \n",
       "3           3                               Schindler's List          1993   \n",
       "4           4                                   12 Angry Men          1957   \n",
       "5           5                          The Godfather Part II          1974   \n",
       "6           6  The Lord of the Rings: The Return of the King          2003   \n",
       "7           7            Spider-Man: Across the Spider-Verse          2023   \n",
       "8           8                                   Pulp Fiction          1994   \n",
       "9           9                                      Inception          2010   \n",
       "\n",
       "   runtime      genre  rating  metascore  gross(M)  \n",
       "0      142      Drama     9.3         82     28.34  \n",
       "1      175      Crime     9.2        100    134.97  \n",
       "2      152     Action     9.0         84    534.86  \n",
       "3      195  Biography     9.0         95     96.90  \n",
       "4       96      Crime     9.0         97      4.36  \n",
       "5      202      Crime     9.0         90     57.30  \n",
       "6      201     Action     9.0         94    377.85  \n",
       "7      140  Animation     8.9         86      0.00  \n",
       "8      154      Crime     8.9         95    107.93  \n",
       "9      148     Action     8.8         74    292.58  "
      ]
     },
     "execution_count": 22,
     "metadata": {},
     "output_type": "execute_result"
    }
   ],
   "source": [
    "# Assuming you have a DataFrame called df and you want to get the top 10 values based on 'column_name'\n",
    "\n",
    "# Retrieve the top 10 values based on 'column_name'\n",
    "top_10_rated = df.nlargest(10, 'rating')\n",
    "\n",
    "# Display the top 10 values\n",
    "top_10_rated"
   ]
  },
  {
   "cell_type": "code",
   "execution_count": 25,
   "id": "8f918477-ed89-48f0-99e1-f382af25538c",
   "metadata": {
    "tags": []
   },
   "outputs": [
    {
     "data": {
      "text/plain": [
       "<AxesSubplot:title={'center':'release year of top 1000 movies'}, xlabel='Year', ylabel='Count'>"
      ]
     },
     "metadata": {},
     "output_type": "display_data"
    },
    {
     "data": {
      "image/png": "[encoded data removed]",
      "text/plain": [
       "<Figure size 432x288 with 1 Axes>"
      ]
     },
     "metadata": {
      "needs_background": "light"
     },
     "output_type": "display_data"
    }
   ],
   "source": [
    "hist = df['release_year'].hist(bins=20, grid=True, color='green')\n",
    "hist.set_title('release year of top 1000 movies')\n",
    "hist.set_ylabel('Count')\n",
    "hist.set_xlabel('Year')\n",
    "display(hist)"
   ]
  },
  {
   "cell_type": "code",
   "execution_count": 27,
   "id": "7d45e783-8d1d-4667-86bb-632e16f3f7fa",
   "metadata": {
    "tags": []
   },
   "outputs": [
    {
     "data": {
      "image/png": "[encoded data removed]",
      "text/plain": [
       "<Figure size 432x288 with 1 Axes>"
      ]
     },
     "metadata": {
      "needs_background": "light"
     },
     "output_type": "display_data"
    }
   ],
   "source": [
    "import matplotlib.pyplot as plt\n",
    "\n",
    "# Group the movies by 'Genre' and count the occurrences\n",
    "genre_counts = df['genre'].value_counts()\n",
    "\n",
    "# Create a bar chart\n",
    "plt.bar(genre_counts.index, genre_counts.values)\n",
    "\n",
    "# Set the labels and title\n",
    "plt.xlabel('Genre')\n",
    "plt.ylabel('Count')\n",
    "plt.title('Top 1000 movies by Genre')\n",
    "\n",
    "# Rotate the x-axis labels if needed\n",
    "plt.xticks(rotation=45)\n",
    "\n",
    "# Display the chart\n",
    "plt.show()"
   ]
  },
  {
   "cell_type": "code",
   "execution_count": null,
   "id": "7bd756c9-b3c5-42b4-8766-ea405456c7c6",
   "metadata": {},
   "outputs": [],
   "source": []
  }
 ],
 "metadata": {
  "kernelspec": {
   "display_name": "UFRC Python-3.10",
   "language": "python",
   "name": "python3-3.10-ufrc"
  },
  "language_info": {
   "codemirror_mode": {
    "name": "ipython",
    "version": 3
   },
   "file_extension": ".py",
   "mimetype": "text/x-python",
   "name": "python",
   "nbconvert_exporter": "python",
   "pygments_lexer": "ipython3",
   "version": "3.10.5"
  }
 },
 "nbformat": 4,
 "nbformat_minor": 5
}
